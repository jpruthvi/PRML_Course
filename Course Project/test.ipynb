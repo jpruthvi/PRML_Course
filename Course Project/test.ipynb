{
 "cells": [
  {
   "cell_type": "code",
   "execution_count": 1,
   "metadata": {},
   "outputs": [],
   "source": [
    "# importing the required libraries\n",
    "import pandas as pd\n",
    "import numpy as np\n",
    "import csv\n",
    "from nltk.tokenize import word_tokenize\n",
    "from nltk.corpus import stopwords\n",
    "from nltk.stem import PorterStemmer,WordNetLemmatizer\n",
    "from scipy.stats import norm\n",
    "import matplotlib.pyplot as plt\n",
    "from sklearn.svm import SVC\n",
    "%matplotlib inline\n",
    "import pickle\n",
    "import os\n",
    "import math"
   ]
  },
  {
   "cell_type": "markdown",
   "metadata": {},
   "source": [
    "Get the absolute path of the folder named \"test\".<br>\n",
    "**Warning:** This will still return an absolute path even if the given sub-directory does not exit."
   ]
  },
  {
   "cell_type": "code",
   "execution_count": 2,
   "metadata": {},
   "outputs": [],
   "source": [
    "path = os.path.abspath(\"test\")"
   ]
  },
  {
   "cell_type": "markdown",
   "metadata": {},
   "source": [
    "**Warning:** Might take a long time to run:"
   ]
  },
  {
   "cell_type": "code",
   "execution_count": 3,
   "metadata": {},
   "outputs": [],
   "source": [
    "# list to store string objects\n",
    "test_data = []\n",
    "# store file names\n",
    "file_name = []\n",
    "for some in os.listdir(path):\n",
    "    if some[-4:] == \".txt\":\n",
    "        with open(os.path.join(path,some)) as s:\n",
    "            data = s.read()\n",
    "            # tokenize the data\n",
    "            data = word_tokenize(data)\n",
    "            # convert to lower case words\n",
    "            data = [word.lower() for word in data]\n",
    "            # remove the stop words\n",
    "            data = [word for word in data if word not in stopwords.words(\"english\")]\n",
    "            # use porter stemmer and lemmatization\n",
    "            stemmer = PorterStemmer()\n",
    "            lemmatizer = WordNetLemmatizer()\n",
    "            data = [stemmer.stem(word) for word in data]\n",
    "            data = [lemmatizer.lemmatize(word) for word in data]\n",
    "            test_data.append(data)\n",
    "            file_name.append(some)"
   ]
  },
  {
   "cell_type": "markdown",
   "metadata": {},
   "source": [
    "Loading the vectoriser from memory"
   ]
  },
  {
   "cell_type": "code",
   "execution_count": 4,
   "metadata": {},
   "outputs": [],
   "source": [
    "vectorier = pickle.load(open(\"vectoriser\", 'rb'))\n",
    "test_data = [' '.join(words) for words in test_data]"
   ]
  },
  {
   "cell_type": "code",
   "execution_count": 5,
   "metadata": {},
   "outputs": [],
   "source": [
    "X_test = vectorier.transform(test_data)\n",
    "# convert sparse to ordinary array\n",
    "X_test = X_test.toarray()"
   ]
  },
  {
   "cell_type": "markdown",
   "metadata": {},
   "source": [
    "**Gaussian Naive Bayes:**"
   ]
  },
  {
   "cell_type": "code",
   "execution_count": 6,
   "metadata": {},
   "outputs": [],
   "source": [
    "mean = pickle.load(open(\"mean\",'rb'))\n",
    "std = pickle.load(open(\"std\",'rb'))\n",
    "class_prob = pickle.load(open(\"class_prob\",'rb'))"
   ]
  },
  {
   "cell_type": "markdown",
   "metadata": {},
   "source": [
    "Prediction:"
   ]
  },
  {
   "cell_type": "code",
   "execution_count": 7,
   "metadata": {},
   "outputs": [],
   "source": [
    "# store the predicted values\n",
    "y_pred_nb = []\n",
    "# two classes\n",
    "k=2\n",
    "for x in X_test:\n",
    "    # here instead of product we are taking sum of log for numerical stability\n",
    "    y_pred_nb.append(np.argmax([-np.sum(np.log(std[i]) + (x-mean[i])**2/(2*std[i]**2)) + np.log(class_prob[i]) for i in range(k)]))"
   ]
  },
  {
   "cell_type": "markdown",
   "metadata": {},
   "source": [
    "**Logistic Regression**"
   ]
  },
  {
   "cell_type": "code",
   "execution_count": 8,
   "metadata": {},
   "outputs": [],
   "source": [
    "beta = pickle.load(open(\"beta\",'rb'))\n",
    "# add one at the end\n",
    "X_test_affine = np.hstack([X_test,np.array([1]*len(X_test)).reshape(-1,1)])\n",
    "y_pred_lr = ((X_test_affine @ beta) > 0)\n",
    "y_pred_lr = y_pred_lr.astype(\"int\").ravel()"
   ]
  },
  {
   "cell_type": "markdown",
   "metadata": {},
   "source": [
    "**SVM**"
   ]
  },
  {
   "cell_type": "code",
   "execution_count": 9,
   "metadata": {},
   "outputs": [],
   "source": [
    "clf = pickle.load(open(\"svm_clf\",'rb'))"
   ]
  },
  {
   "cell_type": "code",
   "execution_count": 10,
   "metadata": {},
   "outputs": [],
   "source": [
    "y_pred_svm = clf.predict(X_test)"
   ]
  },
  {
   "cell_type": "markdown",
   "metadata": {},
   "source": [
    "Let us take a vote among the three classifiers:"
   ]
  },
  {
   "cell_type": "code",
   "execution_count": 11,
   "metadata": {},
   "outputs": [],
   "source": [
    "y_pred_final = (y_pred_lr + y_pred_nb + y_pred_svm)\n",
    "y_pred_final = (y_pred_final >= 2)\n",
    "y_pred_final = y_pred_final.astype(\"int\")"
   ]
  },
  {
   "cell_type": "code",
   "execution_count": 12,
   "metadata": {},
   "outputs": [
    {
     "data": {
      "text/plain": [
       "['email1.txt', 'email2.txt']"
      ]
     },
     "execution_count": 12,
     "metadata": {},
     "output_type": "execute_result"
    }
   ],
   "source": [
    "file_name"
   ]
  },
  {
   "cell_type": "code",
   "execution_count": 13,
   "metadata": {},
   "outputs": [],
   "source": [
    "final_lst_pred = []\n",
    "for i in range(len(file_name)):\n",
    "    final_lst_pred.append([file_name[i],y_pred_final[i]])"
   ]
  },
  {
   "cell_type": "code",
   "execution_count": 14,
   "metadata": {},
   "outputs": [],
   "source": [
    "with open(\"Predictions.csv\", \"w\") as f:\n",
    "    writer = csv.writer(f)\n",
    "    writer.writerows(final_lst_pred)"
   ]
  },
  {
   "cell_type": "code",
   "execution_count": null,
   "metadata": {},
   "outputs": [],
   "source": []
  }
 ],
 "metadata": {
  "kernelspec": {
   "display_name": "Python 3",
   "language": "python",
   "name": "python3"
  },
  "language_info": {
   "codemirror_mode": {
    "name": "ipython",
    "version": 3
   },
   "file_extension": ".py",
   "mimetype": "text/x-python",
   "name": "python",
   "nbconvert_exporter": "python",
   "pygments_lexer": "ipython3",
   "version": "3.7.3"
  }
 },
 "nbformat": 4,
 "nbformat_minor": 2
}
