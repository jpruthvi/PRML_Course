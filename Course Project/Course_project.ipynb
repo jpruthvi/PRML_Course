{
 "cells": [
  {
   "cell_type": "code",
   "execution_count": 1,
   "metadata": {},
   "outputs": [],
   "source": [
    "import pandas as pd\n",
    "import numpy as np\n",
    "import nltk\n",
    "from nltk.tokenize import word_tokenize\n",
    "from nltk.corpus import stopwords\n",
    "from nltk.stem import PorterStemmer,WordNetLemmatizer\n",
    "from sklearn.feature_extraction.text import TfidfVectorizer\n",
    "from sklearn.model_selection import train_test_split\n",
    "from sklearn.metrics import f1_score\n",
    "from scipy.stats import norm\n",
    "import matplotlib.pyplot as plt\n",
    "from sklearn.svm import SVC\n",
    "%matplotlib inline\n",
    "import pickle\n",
    "import os\n",
    "import math"
   ]
  },
  {
   "cell_type": "markdown",
   "metadata": {},
   "source": [
    "The path below depends on the which directory the Enron Spam data set is on your computer."
   ]
  },
  {
   "cell_type": "code",
   "execution_count": 2,
   "metadata": {},
   "outputs": [],
   "source": [
    "path = '/Users/j.pruthvichowdary/Desktop/PRML_assignment3/Enron_Spam/'"
   ]
  },
  {
   "cell_type": "markdown",
   "metadata": {},
   "source": [
    "Preprocessing the data:<br>\n",
    "**Warning:** Takes a long time to run(30 min on my laptop)<br>\n",
    "spam_lst is a list where each element contains the entire text data of a spam document, similarly for ham_lst"
   ]
  },
  {
   "cell_type": "code",
   "execution_count": 3,
   "metadata": {},
   "outputs": [
    {
     "name": "stdout",
     "output_type": "stream",
     "text": [
      "/Users/j.pruthvichowdary/Desktop/PRML_assignment3/Enron_Spam/\n",
      "/Users/j.pruthvichowdary/Desktop/PRML_assignment3/Enron_Spam/enron1\n",
      "/Users/j.pruthvichowdary/Desktop/PRML_assignment3/Enron_Spam/enron1/spam\n",
      "/Users/j.pruthvichowdary/Desktop/PRML_assignment3/Enron_Spam/enron1/ham\n",
      "/Users/j.pruthvichowdary/Desktop/PRML_assignment3/Enron_Spam/enron6\n",
      "/Users/j.pruthvichowdary/Desktop/PRML_assignment3/Enron_Spam/enron6/spam\n",
      "/Users/j.pruthvichowdary/Desktop/PRML_assignment3/Enron_Spam/enron6/ham\n",
      "/Users/j.pruthvichowdary/Desktop/PRML_assignment3/Enron_Spam/enron5\n",
      "/Users/j.pruthvichowdary/Desktop/PRML_assignment3/Enron_Spam/enron5/spam\n",
      "/Users/j.pruthvichowdary/Desktop/PRML_assignment3/Enron_Spam/enron5/ham\n",
      "/Users/j.pruthvichowdary/Desktop/PRML_assignment3/Enron_Spam/enron2\n",
      "/Users/j.pruthvichowdary/Desktop/PRML_assignment3/Enron_Spam/enron2/spam\n",
      "/Users/j.pruthvichowdary/Desktop/PRML_assignment3/Enron_Spam/enron2/ham\n",
      "/Users/j.pruthvichowdary/Desktop/PRML_assignment3/Enron_Spam/enron3\n",
      "/Users/j.pruthvichowdary/Desktop/PRML_assignment3/Enron_Spam/enron3/spam\n",
      "/Users/j.pruthvichowdary/Desktop/PRML_assignment3/Enron_Spam/enron3/ham\n",
      "/Users/j.pruthvichowdary/Desktop/PRML_assignment3/Enron_Spam/enron4\n",
      "/Users/j.pruthvichowdary/Desktop/PRML_assignment3/Enron_Spam/enron4/spam\n",
      "/Users/j.pruthvichowdary/Desktop/PRML_assignment3/Enron_Spam/enron4/ham\n"
     ]
    }
   ],
   "source": [
    "ham_lst = []\n",
    "spam_lst = []\n",
    "# following code iterates through Enron1 ,.., Enron6 extracting the spam and ham emails\n",
    "for d,sd,f in os.walk(path):\n",
    "    print(d)\n",
    "    if os.path.split(d)[1] == \"ham\":\n",
    "        for filename in f:\n",
    "            with open(os.path.join(d,filename),encoding=\"latin-1\") as s:\n",
    "                # input the data\n",
    "                data = s.read()\n",
    "                # tokenize the data\n",
    "                data = word_tokenize(data)\n",
    "                # convert to lower case words\n",
    "                data = [word.lower() for word in data]\n",
    "                # remove the stop words\n",
    "                data = [word for word in data if word not in stopwords.words(\"english\")]\n",
    "                # use porter stemmer and lemmatization\n",
    "                stemmer = PorterStemmer()\n",
    "                lemmatizer = WordNetLemmatizer()\n",
    "                data = [stemmer.stem(word) for word in data]\n",
    "                data = [lemmatizer.lemmatize(word) for word in data]\n",
    "                ham_lst.append(data)\n",
    "    elif os.path.split(d)[1] == \"spam\":\n",
    "        for filename in f:\n",
    "            with open(os.path.join(d,filename),encoding=\"latin-1\") as s:\n",
    "                # input the data\n",
    "                data = s.read()\n",
    "                # tokenize the data\n",
    "                data = word_tokenize(data)\n",
    "                # convert to lower case words\n",
    "                data = [word.lower() for word in data]\n",
    "                # remove the stop words\n",
    "                data = [word for word in data if word not in stopwords.words(\"english\")]\n",
    "                # use porter stemmer and lemmatization\n",
    "                stemmer = PorterStemmer()\n",
    "                lemmatizer = WordNetLemmatizer()\n",
    "                data = [stemmer.stem(word) for word in data]\n",
    "                data = [lemmatizer.lemmatize(word) for word in data]\n",
    "                spam_lst.append(data)"
   ]
  },
  {
   "cell_type": "code",
   "execution_count": 4,
   "metadata": {},
   "outputs": [],
   "source": [
    "# contain all the data into one list\n",
    "ham_lst.extend(spam_lst)"
   ]
  },
  {
   "cell_type": "markdown",
   "metadata": {},
   "source": [
    "Encode the data as<br>\n",
    "0 --> ham<br>\n",
    "1 --> spam<br>\n",
    "Also run the tf-idf vectorizer to get the numerical features from data."
   ]
  },
  {
   "cell_type": "code",
   "execution_count": 5,
   "metadata": {},
   "outputs": [],
   "source": [
    "y = np.array([0]*(len(ham_lst)-len(spam_lst))+[1]*len(spam_lst))\n",
    "# split into training and test data\n",
    "txt_train,txt_test,y_train,y_test = train_test_split(ham_lst,y)\n",
    "# combine words into sentences for running the tf-idf vectorizer\n",
    "txt_train = [' '.join(words) for words in txt_train]\n",
    "txt_test = [' '.join(words) for words in txt_test]"
   ]
  },
  {
   "cell_type": "code",
   "execution_count": 6,
   "metadata": {},
   "outputs": [],
   "source": [
    "# define max features to limit the size of the matrix\n",
    "vectorier = TfidfVectorizer(max_features=1000)\n",
    "# fit and transform for train\n",
    "X_train = vectorier.fit_transform(txt_train)\n",
    "# only transform don't fit for test\n",
    "X_test = vectorier.transform(txt_test)\n",
    "# convert sparse matrix into ordinary matrix\n",
    "X_train = X_train.toarray()\n",
    "X_test = X_test.toarray()"
   ]
  },
  {
   "cell_type": "markdown",
   "metadata": {},
   "source": [
    "Save the vectoriser above to be used during prediction.<br>\n",
    "**Warning:** Do not delete the following file, deleting it might lead to errors during execution of the test script."
   ]
  },
  {
   "cell_type": "code",
   "execution_count": 7,
   "metadata": {},
   "outputs": [],
   "source": [
    "pickle.dump(vectorier,open(\"vectoriser\",'wb'))"
   ]
  },
  {
   "cell_type": "markdown",
   "metadata": {},
   "source": [
    "Gaussian Naive Bayes Classifier:"
   ]
  },
  {
   "cell_type": "code",
   "execution_count": 8,
   "metadata": {},
   "outputs": [],
   "source": [
    "# training the classifier\n",
    "# just get the means and standard deviations\n",
    "k = len(np.unique(y_train))\n",
    "mean = np.zeros((k,X_train.shape[1]))\n",
    "std = np.zeros((k,X_train.shape[1]))\n",
    "for i in range(k):\n",
    "    mean[i] = np.mean(X_train[y_train == i],0)\n",
    "    std[i] = np.std(X_train[y_train == i],0)\n",
    "class_prob = []\n",
    "for i in range(k):\n",
    "    class_prob.append(np.sum(y_train == i) / len(y_train))"
   ]
  },
  {
   "cell_type": "code",
   "execution_count": 9,
   "metadata": {},
   "outputs": [],
   "source": [
    "# add a small value for numerical stability\n",
    "std += 1e-6\n",
    "# store the predicted values\n",
    "y_pred = []\n",
    "for x in X_test:\n",
    "    # here instead of product we are taking sum of log for numerical stability\n",
    "    y_pred.append(np.argmax([-np.sum(np.log(std[i]) + (x-mean[i])**2/(2*std[i]**2)) + np.log(class_prob[i]) for i in range(k)]))"
   ]
  },
  {
   "cell_type": "markdown",
   "metadata": {},
   "source": [
    "The accuracy is given by:"
   ]
  },
  {
   "cell_type": "code",
   "execution_count": 10,
   "metadata": {},
   "outputs": [
    {
     "data": {
      "text/plain": [
       "0.9678490924190295"
      ]
     },
     "execution_count": 10,
     "metadata": {},
     "output_type": "execute_result"
    }
   ],
   "source": [
    "np.sum(y_pred == y_test) / len(y_test)"
   ]
  },
  {
   "cell_type": "markdown",
   "metadata": {},
   "source": [
    "Therefore we got an accuracy of about 97% on the Naive Bayes Classifier."
   ]
  },
  {
   "cell_type": "markdown",
   "metadata": {},
   "source": [
    "**Saving variables for use in prediction, do not delete them:**"
   ]
  },
  {
   "cell_type": "code",
   "execution_count": 11,
   "metadata": {},
   "outputs": [],
   "source": [
    "pickle.dump(mean,open(\"mean\",'wb'))\n",
    "pickle.dump(std,open(\"std\",'wb'))\n",
    "pickle.dump(class_prob,open(\"class_prob\",'wb'))"
   ]
  },
  {
   "cell_type": "markdown",
   "metadata": {},
   "source": [
    "Logistic Regression Classifier:"
   ]
  },
  {
   "cell_type": "code",
   "execution_count": 12,
   "metadata": {},
   "outputs": [
    {
     "data": {
      "text/plain": [
       "<matplotlib.legend.Legend at 0x1a446ee2e8>"
      ]
     },
     "execution_count": 12,
     "metadata": {},
     "output_type": "execute_result"
    },
    {
     "data": {
      "image/png": "[encoded data removed]",
      "text/plain": [
       "<Figure size 1296x864 with 1 Axes>"
      ]
     },
     "metadata": {
      "needs_background": "light"
     },
     "output_type": "display_data"
    }
   ],
   "source": [
    "# we will now implement the above in code\n",
    "# add a row of 1's to include a constant in linear function\n",
    "X_train_affine = np.hstack([X_train,np.array([1]*len(X_train)).reshape(-1,1)])\n",
    "X_test_affine = np.hstack([X_test,np.array([1]*len(X_test)).reshape(-1,1)])\n",
    "y_train = y_train.reshape(-1,1)\n",
    "min_loss = math.inf\n",
    "alpha = 1e-4\n",
    "itera = 1500\n",
    "beta = np.random.randn(X_train_affine.shape[1],1) * 0.001\n",
    "loss = []\n",
    "for i in range(itera):\n",
    "    # add the current loss to vector which is negative log liklihood\n",
    "    loss.append( -(np.sum((X_train_affine @ beta) * y_train) - np.sum(np.log(1+np.exp(X_train_affine @ beta)))) )\n",
    "    # calulate the gradient\n",
    "    grad = (np.sum(y_train * X_train_affine,0) - np.sum(X_train_affine / (1 + np.exp(-X_train_affine @ beta)),0)).reshape(-1,1)\n",
    "    # update using gradient ascent update rule, to maximize log liklihood\n",
    "    beta = beta + alpha * grad\n",
    "plt.figure(figsize=(18,12))\n",
    "plt.scatter(list(range(len(loss))),loss,c='g',label=\"alpha: \"+str(alpha)+\" iter: \"+str(itera))\n",
    "plt.xlabel(\"Iterations\")\n",
    "plt.ylabel(\"Loss\")\n",
    "plt.legend()"
   ]
  },
  {
   "cell_type": "code",
   "execution_count": 13,
   "metadata": {},
   "outputs": [
    {
     "data": {
      "text/plain": [
       "0.97532328864634"
      ]
     },
     "execution_count": 13,
     "metadata": {},
     "output_type": "execute_result"
    }
   ],
   "source": [
    "y_train = y_train.ravel()\n",
    "y_pred = ((X_test_affine @ beta) > 0)\n",
    "np.sum(y_pred.ravel() == y_test) / len(y_test)"
   ]
  },
  {
   "cell_type": "markdown",
   "metadata": {},
   "source": [
    "So we got an accuracy of 97.4% using Logistic regression classifier."
   ]
  },
  {
   "cell_type": "markdown",
   "metadata": {},
   "source": [
    "**Saving variables for use in prediction, do not delete them:**"
   ]
  },
  {
   "cell_type": "code",
   "execution_count": 14,
   "metadata": {},
   "outputs": [],
   "source": [
    "pickle.dump(beta,open(\"beta\",'wb'))"
   ]
  },
  {
   "cell_type": "markdown",
   "metadata": {},
   "source": [
    "Support Vector Machines"
   ]
  },
  {
   "cell_type": "code",
   "execution_count": 15,
   "metadata": {},
   "outputs": [],
   "source": [
    "clf = SVC(kernel=\"rbf\")"
   ]
  },
  {
   "cell_type": "code",
   "execution_count": 16,
   "metadata": {},
   "outputs": [
    {
     "name": "stderr",
     "output_type": "stream",
     "text": [
      "/Users/j.pruthvichowdary/anaconda3/lib/python3.7/site-packages/sklearn/svm/base.py:193: FutureWarning: The default value of gamma will change from 'auto' to 'scale' in version 0.22 to account better for unscaled features. Set gamma explicitly to 'auto' or 'scale' to avoid this warning.\n",
      "  \"avoid this warning.\", FutureWarning)\n"
     ]
    },
    {
     "data": {
      "text/plain": [
       "SVC(C=1.0, cache_size=200, class_weight=None, coef0=0.0,\n",
       "    decision_function_shape='ovr', degree=3, gamma='auto_deprecated',\n",
       "    kernel='rbf', max_iter=-1, probability=False, random_state=None,\n",
       "    shrinking=True, tol=0.001, verbose=False)"
      ]
     },
     "execution_count": 16,
     "metadata": {},
     "output_type": "execute_result"
    }
   ],
   "source": [
    "clf.fit(X_train,y_train.ravel())"
   ]
  },
  {
   "cell_type": "code",
   "execution_count": 17,
   "metadata": {},
   "outputs": [
    {
     "data": {
      "text/plain": [
       "0.8780400996559496"
      ]
     },
     "execution_count": 17,
     "metadata": {},
     "output_type": "execute_result"
    }
   ],
   "source": [
    "y_pred = clf.predict(X_test)\n",
    "np.sum(y_pred.ravel() == y_test) / len(y_test)"
   ]
  },
  {
   "cell_type": "markdown",
   "metadata": {},
   "source": [
    "Rbf kernel is not giving good accuracy so we will stick with linear."
   ]
  },
  {
   "cell_type": "code",
   "execution_count": 18,
   "metadata": {},
   "outputs": [],
   "source": [
    "# since we have already split the data, we can use X_test as a validation code:\n",
    "val_acc = []\n",
    "for C in np.logspace(0,2,10):\n",
    "    # fit the data\n",
    "    clf = SVC(kernel=\"linear\",C=C)\n",
    "    clf.fit(X_train,y_train)\n",
    "    y_pred = clf.predict(X_test)\n",
    "    val_acc.append(np.sum(y_pred.ravel() == y_test) / len(y_test))"
   ]
  },
  {
   "cell_type": "code",
   "execution_count": 19,
   "metadata": {},
   "outputs": [
    {
     "data": {
      "text/plain": [
       "<matplotlib.collections.PathCollection at 0x1a43f13860>"
      ]
     },
     "execution_count": 19,
     "metadata": {},
     "output_type": "execute_result"
    },
    {
     "data": {
      "image/png": "[encoded data removed]",
      "text/plain": [
       "<Figure size 432x288 with 1 Axes>"
      ]
     },
     "metadata": {
      "needs_background": "light"
     },
     "output_type": "display_data"
    }
   ],
   "source": [
    "plt.scatter(list(range(len(val_acc))),val_acc)"
   ]
  },
  {
   "cell_type": "code",
   "execution_count": 20,
   "metadata": {},
   "outputs": [
    {
     "data": {
      "text/plain": [
       "0.9827974848736505"
      ]
     },
     "execution_count": 20,
     "metadata": {},
     "output_type": "execute_result"
    }
   ],
   "source": [
    "max(val_acc)"
   ]
  },
  {
   "cell_type": "markdown",
   "metadata": {},
   "source": [
    "We can see that SVM gives an accuracy of 97.9%<br>\n",
    "best value of C is"
   ]
  },
  {
   "cell_type": "code",
   "execution_count": 21,
   "metadata": {},
   "outputs": [
    {
     "data": {
      "text/plain": [
       "1.0"
      ]
     },
     "execution_count": 21,
     "metadata": {},
     "output_type": "execute_result"
    }
   ],
   "source": [
    "C = np.logspace(0,2,10)[np.argmax(val_acc)]\n",
    "C"
   ]
  },
  {
   "cell_type": "code",
   "execution_count": 22,
   "metadata": {},
   "outputs": [
    {
     "data": {
      "text/plain": [
       "SVC(C=1.0, cache_size=200, class_weight=None, coef0=0.0,\n",
       "    decision_function_shape='ovr', degree=3, gamma='auto_deprecated',\n",
       "    kernel='linear', max_iter=-1, probability=False, random_state=None,\n",
       "    shrinking=True, tol=0.001, verbose=False)"
      ]
     },
     "execution_count": 22,
     "metadata": {},
     "output_type": "execute_result"
    }
   ],
   "source": [
    "# retrain the classifier\n",
    "clf = SVC(kernel=\"linear\",C=C)\n",
    "clf.fit(X_train,y_train)"
   ]
  },
  {
   "cell_type": "markdown",
   "metadata": {},
   "source": [
    "**Saving variables for use in prediction, do not delete them:**"
   ]
  },
  {
   "cell_type": "code",
   "execution_count": 23,
   "metadata": {},
   "outputs": [],
   "source": [
    "pickle.dump(clf,open(\"svm_clf\",'wb'))"
   ]
  },
  {
   "cell_type": "code",
   "execution_count": null,
   "metadata": {},
   "outputs": [],
   "source": []
  }
 ],
 "metadata": {
  "kernelspec": {
   "display_name": "Python 3",
   "language": "python",
   "name": "python3"
  },
  "language_info": {
   "codemirror_mode": {
    "name": "ipython",
    "version": 3
   },
   "file_extension": ".py",
   "mimetype": "text/x-python",
   "name": "python",
   "nbconvert_exporter": "python",
   "pygments_lexer": "ipython3",
   "version": "3.7.3"
  }
 },
 "nbformat": 4,
 "nbformat_minor": 2
}
